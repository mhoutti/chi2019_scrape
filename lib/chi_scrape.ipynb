{
 "cells": [
  {
   "cell_type": "markdown",
   "metadata": {},
   "source": [
    "This notebook generates statistics on CHI 2019 papers. Given a bunch of URLS, it finds the number of figures, tables, citations, and downloads for each paper, along with character count of body content."
   ]
  },
  {
   "cell_type": "markdown",
   "metadata": {},
   "source": [
    "Import packages and list of urls."
   ]
  },
  {
   "cell_type": "code",
   "execution_count": 1,
   "metadata": {},
   "outputs": [],
   "source": [
    "import requests\n",
    "import pandas as pd\n",
    "import re\n",
    "from pyquery import PyQuery \n",
    "\n",
    "papers = pd.read_csv('../data/chi_2019_urls.txt', sep='\\t')\n",
    "urls = papers.url"
   ]
  },
  {
   "cell_type": "markdown",
   "metadata": {},
   "source": [
    "Get corresponding page content for each URL. URLs point to the HTML full text versions of CHI 2019 proceedings."
   ]
  },
  {
   "cell_type": "code",
   "execution_count": 2,
   "metadata": {},
   "outputs": [],
   "source": [
    "tables = []\n",
    "figures = []\n",
    "lengths = []\n",
    "remaining_urls = []\n",
    "\n",
    "for url in urls:\n",
    "    r = requests.get(url)\n",
    "    if r.status_code != requests.codes.ok:\n",
    "        print(r.status_code)\n",
    "    page = r.text\n",
    "    current_url = r.url\n",
    "    \n",
    "    # Some papers don't have HTML fulltext versions, so need to check URL before processing data\n",
    "    if 'fullHtml' in current_url:\n",
    "        count_figures = len(set(re.findall('Figure [0-9]+', page)))\n",
    "        count_tables = len(set(re.findall('Table [0-9]+', page)))\n",
    "        \n",
    "        pq = PyQuery(page)\n",
    "        body = pq('section.body p').text()\n",
    "\n",
    "        lengths.append(len(body))\n",
    "        figures.append(count_figures)\n",
    "        tables.append(count_tables)\n",
    "        remaining_urls.append(current_url)"
   ]
  },
  {
   "cell_type": "markdown",
   "metadata": {},
   "source": [
    "Create list of URLs that point to summary pages for each paper. This page contains the abstract along with (more pertinently) the download and citation counts."
   ]
  },
  {
   "cell_type": "code",
   "execution_count": 3,
   "metadata": {},
   "outputs": [],
   "source": [
    "summary_urls = []\n",
    "\n",
    "for url in remaining_urls:\n",
    "    summary_urls.append(url.replace('/fullHtml', ''))"
   ]
  },
  {
   "cell_type": "markdown",
   "metadata": {},
   "source": [
    "Extract citation and download counts from summary pages."
   ]
  },
  {
   "cell_type": "code",
   "execution_count": 4,
   "metadata": {},
   "outputs": [],
   "source": [
    "citations = []\n",
    "downloads = []\n",
    "\n",
    "for url in summary_urls:\n",
    "    r = requests.get(url)\n",
    "    if r.status_code != requests.codes.ok:\n",
    "        print(r.status_code)\n",
    "    page = r.text\n",
    "    \n",
    "    citation_text = re.findall('<div class=\"citation\">Total Citations<span class=\"bold\">[0-9,]+</span></div>', page)[0]\n",
    "    count_citations = int(re.findall('[0-9,]+', citation_text)[0].replace(',',''))\n",
    "    \n",
    "    download_text = re.findall('<div class=\"metric\">Total Downloads<span class=\"bold\">[0-9,]+</span></div>', page)[0]\n",
    "    count_downloads = int(re.findall('[0-9,]+', download_text)[0].replace(',',''))\n",
    "    \n",
    "    citations.append(count_citations)\n",
    "    downloads.append(count_downloads)"
   ]
  },
  {
   "cell_type": "markdown",
   "metadata": {},
   "source": [
    "Put everything into a DataFrame and export for analysis in R."
   ]
  },
  {
   "cell_type": "code",
   "execution_count": 5,
   "metadata": {},
   "outputs": [],
   "source": [
    "dict = {'url': summary_urls, 'characters': lengths, 'figures': figures, 'tables': tables, 'citations': citations, 'downloads': downloads}\n",
    "df = pd.DataFrame(dict)\n",
    "df.to_csv('../data/chi_2019_stats.tsv', sep='\\t')"
   ]
  }
 ],
 "metadata": {
  "kernelspec": {
   "display_name": "Python 3",
   "language": "python",
   "name": "python3"
  },
  "language_info": {
   "codemirror_mode": {
    "name": "ipython",
    "version": 3
   },
   "file_extension": ".py",
   "mimetype": "text/x-python",
   "name": "python",
   "nbconvert_exporter": "python",
   "pygments_lexer": "ipython3",
   "version": "3.7.6"
  }
 },
 "nbformat": 4,
 "nbformat_minor": 4
}
